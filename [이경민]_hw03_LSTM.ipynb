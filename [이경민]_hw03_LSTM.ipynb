{
 "cells": [
  {
   "cell_type": "markdown",
   "metadata": {},
   "source": [
    "# 순환신경망(LSTM)\n",
    "### IMDB(internet movie data base)제공하는 리뷰 데이터를 가지고 평점 예측하기"
   ]
  },
  {
   "cell_type": "markdown",
   "metadata": {},
   "source": [
    "## 사용할 패키지 불러오기\n",
    "### keras에서 필요한 데이터, 모델, 레이어를 import 함.\n",
    "- Sequence : 레이어들을 선형으로 쌓는 모델\n",
    "- Dense : 입출력을 연결해줌\n",
    "- Enbedding : Data를 밀집 벡터로 만드는 층\n",
    "- Flatten : 결과를 1차원으로 보여줌"
   ]
  },
  {
   "cell_type": "code",
   "execution_count": 1,
   "metadata": {},
   "outputs": [
    {
     "name": "stderr",
     "output_type": "stream",
     "text": [
      "Using TensorFlow backend.\n"
     ]
    }
   ],
   "source": [
    "from keras.datasets import imdb\n",
    "from keras.preprocessing import sequence\n",
    "from keras.models import Sequential\n",
    "from keras.layers import Dense, Embedding, LSTM\n",
    "from keras.layers import Flatten\n",
    "\n",
    "\n",
    "max_features = 20000 # 20000번째로 자주 사용 되는 단어 데이터\n",
    "text_max_words = 200 # 데이터 최대길이 200"
   ]
  },
  {
   "cell_type": "markdown",
   "metadata": {},
   "source": [
    "## 데이터셋 생성하기\n",
    "- 25000개의 IMDB 훈련 SET을 다시 20000개의 훈련 SET과 5000개의 검증 SET으로 데이터 SET으로 생성한다"
   ]
  },
  {
   "cell_type": "code",
   "execution_count": 2,
   "metadata": {},
   "outputs": [],
   "source": [
    "(x_train, y_train), (x_test, y_test) = imdb.load_data(num_words=max_features)\n",
    "\n",
    "x_val = x_train[20000:]\n",
    "y_val = y_train[20000:]\n",
    "x_train = x_train[:20000]\n",
    "y_train = y_train[:20000]\n",
    "\n",
    "x_train = sequence.pad_sequences(x_train, maxlen=text_max_words)\n",
    "x_val = sequence.pad_sequences(x_val, maxlen=text_max_words)\n",
    "x_test = sequence.pad_sequences(x_test, maxlen=text_max_words)"
   ]
  },
  {
   "cell_type": "markdown",
   "metadata": {},
   "source": [
    "## 모델 구성하기\n",
    "- 선형 모델로 구성\n",
    "- max_fetures 즉 20000개의 데이터를 임베딩 한후의 벡터의 크기(특징의 크기)는 128이다\n",
    "- 출력 뉴런은 1개이고 활성화함수 'sigmod'를 사용"
   ]
  },
  {
   "cell_type": "code",
   "execution_count": 3,
   "metadata": {},
   "outputs": [
    {
     "name": "stderr",
     "output_type": "stream",
     "text": [
      "WARNING: Logging before flag parsing goes to stderr.\n",
      "W0805 10:15:16.785370 11196 deprecation_wrapper.py:119] From C:\\Users\\lymmo\\AppData\\Roaming\\Python\\Python37\\site-packages\\keras\\backend\\tensorflow_backend.py:74: The name tf.get_default_graph is deprecated. Please use tf.compat.v1.get_default_graph instead.\n",
      "\n",
      "W0805 10:15:16.802305 11196 deprecation_wrapper.py:119] From C:\\Users\\lymmo\\AppData\\Roaming\\Python\\Python37\\site-packages\\keras\\backend\\tensorflow_backend.py:517: The name tf.placeholder is deprecated. Please use tf.compat.v1.placeholder instead.\n",
      "\n",
      "W0805 10:15:16.804799 11196 deprecation_wrapper.py:119] From C:\\Users\\lymmo\\AppData\\Roaming\\Python\\Python37\\site-packages\\keras\\backend\\tensorflow_backend.py:4138: The name tf.random_uniform is deprecated. Please use tf.random.uniform instead.\n",
      "\n"
     ]
    }
   ],
   "source": [
    "model = Sequential()\n",
    "model.add(Embedding(max_features, 128))\n",
    "model.add(LSTM(128))\n",
    "model.add(Dense(1, activation='sigmoid'))"
   ]
  },
  {
   "cell_type": "markdown",
   "metadata": {},
   "source": [
    "## 모델 학습과정 설정하기\n",
    "- 모델을 loss='binary_crossentropy', optimizer='adam', metrics=['accuracy'] 형식으로 컴파일\n",
    "- 생성된 모델을 model.summary()를 통해 출력해준다."
   ]
  },
  {
   "cell_type": "code",
   "execution_count": 4,
   "metadata": {},
   "outputs": [
    {
     "name": "stderr",
     "output_type": "stream",
     "text": [
      "W0805 10:15:17.036148 11196 deprecation_wrapper.py:119] From C:\\Users\\lymmo\\AppData\\Roaming\\Python\\Python37\\site-packages\\keras\\optimizers.py:790: The name tf.train.Optimizer is deprecated. Please use tf.compat.v1.train.Optimizer instead.\n",
      "\n",
      "W0805 10:15:17.123916 11196 deprecation_wrapper.py:119] From C:\\Users\\lymmo\\AppData\\Roaming\\Python\\Python37\\site-packages\\keras\\backend\\tensorflow_backend.py:3376: The name tf.log is deprecated. Please use tf.math.log instead.\n",
      "\n",
      "W0805 10:15:17.131900 11196 deprecation.py:323] From C:\\Users\\lymmo\\AppData\\Roaming\\Python\\Python37\\site-packages\\tensorflow\\python\\ops\\nn_impl.py:180: add_dispatch_support.<locals>.wrapper (from tensorflow.python.ops.array_ops) is deprecated and will be removed in a future version.\n",
      "Instructions for updating:\n",
      "Use tf.where in 2.0, which has the same broadcast rule as np.where\n"
     ]
    },
    {
     "name": "stdout",
     "output_type": "stream",
     "text": [
      "_________________________________________________________________\n",
      "Layer (type)                 Output Shape              Param #   \n",
      "=================================================================\n",
      "embedding_1 (Embedding)      (None, None, 128)         2560000   \n",
      "_________________________________________________________________\n",
      "lstm_1 (LSTM)                (None, 128)               131584    \n",
      "_________________________________________________________________\n",
      "dense_1 (Dense)              (None, 1)                 129       \n",
      "=================================================================\n",
      "Total params: 2,691,713\n",
      "Trainable params: 2,691,713\n",
      "Non-trainable params: 0\n",
      "_________________________________________________________________\n"
     ]
    }
   ],
   "source": [
    "model.compile(loss='binary_crossentropy', optimizer='adam', metrics=['accuracy'])\n",
    "\n",
    "model.summary()"
   ]
  },
  {
   "cell_type": "markdown",
   "metadata": {},
   "source": [
    "## 모델 학습시키기"
   ]
  },
  {
   "cell_type": "code",
   "execution_count": 5,
   "metadata": {},
   "outputs": [
    {
     "name": "stderr",
     "output_type": "stream",
     "text": [
      "W0805 10:15:17.927593 11196 deprecation_wrapper.py:119] From C:\\Users\\lymmo\\AppData\\Roaming\\Python\\Python37\\site-packages\\keras\\backend\\tensorflow_backend.py:986: The name tf.assign_add is deprecated. Please use tf.compat.v1.assign_add instead.\n",
      "\n"
     ]
    },
    {
     "name": "stdout",
     "output_type": "stream",
     "text": [
      "Train on 20000 samples, validate on 5000 samples\n",
      "Epoch 1/25\n",
      "20000/20000 [==============================] - 213s 11ms/step - loss: 0.4464 - acc: 0.7875 - val_loss: 0.3969 - val_acc: 0.8200\n",
      "Epoch 2/25\n",
      "20000/20000 [==============================] - 249s 12ms/step - loss: 0.2344 - acc: 0.9111 - val_loss: 0.3233 - val_acc: 0.8740\n",
      "Epoch 3/25\n",
      "20000/20000 [==============================] - 241s 12ms/step - loss: 0.1436 - acc: 0.9489 - val_loss: 0.3618 - val_acc: 0.8588\n",
      "Epoch 4/25\n",
      "20000/20000 [==============================] - 232s 12ms/step - loss: 0.0817 - acc: 0.9733 - val_loss: 0.4510 - val_acc: 0.8682\n",
      "Epoch 5/25\n",
      "20000/20000 [==============================] - 243s 12ms/step - loss: 0.0938 - acc: 0.9665 - val_loss: 0.4839 - val_acc: 0.8376\n",
      "Epoch 6/25\n",
      "20000/20000 [==============================] - 299s 15ms/step - loss: 0.0659 - acc: 0.9777 - val_loss: 0.4884 - val_acc: 0.8602\n",
      "Epoch 7/25\n",
      "20000/20000 [==============================] - 360s 18ms/step - loss: 0.0395 - acc: 0.9875 - val_loss: 0.6766 - val_acc: 0.8636\n",
      "Epoch 8/25\n",
      "20000/20000 [==============================] - 350s 17ms/step - loss: 0.0194 - acc: 0.9944 - val_loss: 0.6736 - val_acc: 0.7944\n",
      "Epoch 9/25\n",
      "20000/20000 [==============================] - 360s 18ms/step - loss: 0.0184 - acc: 0.9946 - val_loss: 0.7046 - val_acc: 0.8544\n",
      "Epoch 10/25\n",
      "20000/20000 [==============================] - 331s 17ms/step - loss: 0.0216 - acc: 0.9932 - val_loss: 0.7388 - val_acc: 0.8504\n",
      "Epoch 11/25\n",
      "20000/20000 [==============================] - 254s 13ms/step - loss: 0.0148 - acc: 0.9956 - val_loss: 0.7334 - val_acc: 0.8506\n",
      "Epoch 12/25\n",
      "20000/20000 [==============================] - 255s 13ms/step - loss: 0.0149 - acc: 0.9958 - val_loss: 0.7579 - val_acc: 0.8236\n",
      "Epoch 13/25\n",
      "20000/20000 [==============================] - 260s 13ms/step - loss: 0.0148 - acc: 0.9955 - val_loss: 0.7242 - val_acc: 0.8338\n",
      "Epoch 14/25\n",
      "20000/20000 [==============================] - 251s 13ms/step - loss: 0.0364 - acc: 0.9884 - val_loss: 0.6766 - val_acc: 0.8292\n",
      "Epoch 15/25\n",
      "20000/20000 [==============================] - 217s 11ms/step - loss: 0.0098 - acc: 0.9969 - val_loss: 0.9900 - val_acc: 0.8318\n",
      "Epoch 16/25\n",
      "20000/20000 [==============================] - 134s 7ms/step - loss: 0.0036 - acc: 0.9992 - val_loss: 0.8990 - val_acc: 0.8466\n",
      "Epoch 17/25\n",
      "20000/20000 [==============================] - 133s 7ms/step - loss: 0.0051 - acc: 0.9985 - val_loss: 0.7978 - val_acc: 0.8324\n",
      "Epoch 18/25\n",
      "20000/20000 [==============================] - 131s 7ms/step - loss: 0.0063 - acc: 0.9981 - val_loss: 1.0024 - val_acc: 0.8512\n",
      "Epoch 19/25\n",
      "20000/20000 [==============================] - 137s 7ms/step - loss: 0.0028 - acc: 0.9992 - val_loss: 1.0392 - val_acc: 0.8402\n",
      "Epoch 20/25\n",
      "20000/20000 [==============================] - 142s 7ms/step - loss: 0.0156 - acc: 0.9954 - val_loss: 0.8186 - val_acc: 0.8478\n",
      "Epoch 21/25\n",
      "20000/20000 [==============================] - 134s 7ms/step - loss: 0.0065 - acc: 0.9981 - val_loss: 0.8945 - val_acc: 0.8508\n",
      "Epoch 22/25\n",
      "20000/20000 [==============================] - 139s 7ms/step - loss: 0.0169 - acc: 0.9950 - val_loss: 0.8150 - val_acc: 0.8400\n",
      "Epoch 23/25\n",
      "20000/20000 [==============================] - 137s 7ms/step - loss: 0.0220 - acc: 0.9933 - val_loss: 0.8144 - val_acc: 0.8616\n",
      "Epoch 24/25\n",
      "20000/20000 [==============================] - 141s 7ms/step - loss: 0.0095 - acc: 0.9968 - val_loss: 0.7771 - val_acc: 0.8492\n",
      "Epoch 25/25\n",
      "20000/20000 [==============================] - 140s 7ms/step - loss: 0.0024 - acc: 0.9994 - val_loss: 0.9089 - val_acc: 0.8542\n"
     ]
    }
   ],
   "source": [
    "hist = model.fit(x_train, y_train, epochs=25, batch_size=64, validation_data=(x_val, y_val)) \n",
    "## 에포크 25로 설정 전체 IMDB 데이터를 25번 순환 학습"
   ]
  },
  {
   "cell_type": "markdown",
   "metadata": {},
   "source": [
    "## 학습과정 살펴보기\n",
    "- matplotlib의 pyplot을 사용해 결과값을 그래픽으로 표현\n",
    "- 4번째 에포크부터 훈련데이터의 정확도는 크게 오차가 없다.\n",
    "- 학습데이터의 오차는 점점 줄어드는 걸 확인 할 수 있다.\n",
    "- 약 14번,16번,19번 에포크에서 과적합이 일어나는걸 확인 할 수 있었고, 25번 학습 모델보다 18번정도의 학습 모델이 더 좋은 결과를 보여준다."
   ]
  },
  {
   "cell_type": "code",
   "execution_count": 6,
   "metadata": {},
   "outputs": [
    {
     "data": {
      "image/png": "[encoded data removed]",
      "text/plain": [
       "<Figure size 432x288 with 2 Axes>"
      ]
     },
     "metadata": {
      "needs_background": "light"
     },
     "output_type": "display_data"
    }
   ],
   "source": [
    "%matplotlib inline\n",
    "import matplotlib.pyplot as plt\n",
    "\n",
    "fig, loss_ax = plt.subplots()\n",
    "\n",
    "acc_ax = loss_ax.twinx()\n",
    "\n",
    "loss_ax.plot(hist.history['loss'], 'y', label='train loss')\n",
    "loss_ax.plot(hist.history['val_loss'], 'r', label='val loss')\n",
    "loss_ax.set_ylim([-0.2, 1.2])\n",
    "\n",
    "acc_ax.plot(hist.history['acc'], 'b', label='train acc')\n",
    "acc_ax.plot(hist.history['val_acc'], 'g', label='val acc')\n",
    "acc_ax.set_ylim([-0.2, 1.2])\n",
    "\n",
    "loss_ax.set_xlabel('epoch')\n",
    "loss_ax.set_ylabel('loss')\n",
    "acc_ax.set_ylabel('accuray')\n",
    "\n",
    "loss_ax.legend(loc='upper left')\n",
    "acc_ax.legend(loc='lower left')\n",
    "\n",
    "plt.show()"
   ]
  },
  {
   "cell_type": "markdown",
   "metadata": {},
   "source": [
    "## 모델 평가하기\n",
    "- 약 97%의 검증 정확도를 가진다"
   ]
  },
  {
   "cell_type": "code",
   "execution_count": 7,
   "metadata": {},
   "outputs": [
    {
     "name": "stdout",
     "output_type": "stream",
     "text": [
      "25000/25000 [==============================] - 24s 960us/step\n",
      "## evaluation loss and_metrics ##\n",
      "[0.9664371558380127, 0.84692]\n"
     ]
    }
   ],
   "source": [
    "loss_and_metrics = model.evaluate(x_test, y_test, batch_size=64)\n",
    "print('## evaluation loss and_metrics ##')\n",
    "print(loss_and_metrics)"
   ]
  }
 ],
 "metadata": {
  "kernelspec": {
   "display_name": "Python 3",
   "language": "python",
   "name": "python3"
  },
  "language_info": {
   "codemirror_mode": {
    "name": "ipython",
    "version": 3
   },
   "file_extension": ".py",
   "mimetype": "text/x-python",
   "name": "python",
   "nbconvert_exporter": "python",
   "pygments_lexer": "ipython3",
   "version": "3.7.3"
  }
 },
 "nbformat": 4,
 "nbformat_minor": 2
}
