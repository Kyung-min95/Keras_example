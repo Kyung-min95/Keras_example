{
 "cells": [
  {
   "cell_type": "markdown",
   "metadata": {},
   "source": [
    "# 3.4 영화 리뷰: 이진 분류 예제\n",
    "\n",
    "리뷰 텍스트를 기반으로 영화 리뷰를 긍정(positive)과 부정(negative)으로 분류하는 방법"
   ]
  },
  {
   "cell_type": "markdown",
   "metadata": {},
   "source": [
    "## 코드 3-1 IMDB 데이터셋 로드하기\n",
    "인터넷 영화 데이터로부터 가져온 양극단의 리뷰 5만개로 이루어진 IMDB 데이터셋을 사용.\n",
    "2만 5000개의 훈련 데이터와 2만5000개의 테스트 데이터로 나누어져 있다.\n",
    "50%는 부정 50%는 긍정 리뷰로 구성"
   ]
  },
  {
   "cell_type": "code",
   "execution_count": 9,
   "metadata": {
    "scrolled": true
   },
   "outputs": [],
   "source": [
    "from keras.datasets import imdb\n",
    "import numpy as np\n",
    "\n",
    "np_load_old = np.load\n",
    "np.load = lambda *a,**k: np_load_old(*a, allow_pickle=True, **k)\n",
    "(train_data, train_labels), (test_data, test_labels) = imdb.load_data(num_words=10000)\n",
    "\n",
    "np.load = np_load_old"
   ]
  },
  {
   "cell_type": "markdown",
   "metadata": {},
   "source": [
    "## 코드 3-2  정수 시퀀스를 이진 행렬로 인코딩하기\n",
    "one-hot encoding으로 0과 1의 벡터로 변환"
   ]
  },
  {
   "cell_type": "code",
   "execution_count": 22,
   "metadata": {},
   "outputs": [],
   "source": [
    "import numpy as np\n",
    "\n",
    "def vectorize_sequences(sequences, dimension=10000):\n",
    "    results = np.zeros((len(sequences), dimension))\n",
    "    #크기가 (len(sequences),dimension)이고 모든 원소가 0인 행렬\n",
    "    for i,sequence in enumerate(sequences):\n",
    "        results[i,sequence] = 1.\n",
    "    return results\n",
    "x_train = vectorize_sequences(train_data)\n",
    "x_test = vectorize_sequences(test_data)\n",
    "\n",
    "y_train = np.asarray(train_labels).astype('float32')\n",
    "y_test = np.asarray(test_labels).astype('float32')\n"
   ]
  },
  {
   "cell_type": "markdown",
   "metadata": {},
   "source": [
    "## 코드 3-3 모델 정의하기"
   ]
  },
  {
   "cell_type": "code",
   "execution_count": 23,
   "metadata": {},
   "outputs": [],
   "source": [
    "from keras import models\n",
    "from keras import layers\n",
    "\n",
    "model = models.Sequential()\n",
    "model.add(layers.Dense(16, activation = 'relu', input_shape = (10000,)))\n",
    "model.add(layers.Dense(16, activation = 'relu'))\n",
    "model.add(layers.Dense(1, activation = 'sigmoid'))\n"
   ]
  },
  {
   "cell_type": "markdown",
   "metadata": {},
   "source": [
    "## 코드 3-4 모델 컴파일하기"
   ]
  },
  {
   "cell_type": "code",
   "execution_count": 27,
   "metadata": {},
   "outputs": [],
   "source": [
    "model.compile(optimizer='rmsprop',\n",
    "              loss='binary_crossentropy',\n",
    "              metrics=['accuracy'])"
   ]
  },
  {
   "cell_type": "markdown",
   "metadata": {},
   "source": [
    "## 코드 3-5 옵티마이저 설정하기\n",
    "옵티마이저의 매겨변수를 바꾸기 위해 파이썬 클래스를 사용해 옵티마이저에 매개변수에 전달"
   ]
  },
  {
   "cell_type": "code",
   "execution_count": 28,
   "metadata": {
    "scrolled": true
   },
   "outputs": [],
   "source": [
    "from keras import optimizers\n",
    "model.compile(optimizer = optimizers.RMSprop(lr = 0.001),\n",
    "              loss='binary_crossentropy', \n",
    "              metrics = ['accuracy'])"
   ]
  },
  {
   "cell_type": "markdown",
   "metadata": {},
   "source": [
    "## 코드 3-6 손실과 측정을 함수"
   ]
  },
  {
   "cell_type": "code",
   "execution_count": 29,
   "metadata": {},
   "outputs": [],
   "source": [
    "from keras import losses\n",
    "from keras import metrics\n",
    "\n",
    "model.compile(optimizer=optimizers.RMSprop(lr=0.001),\n",
    "              loss = losses.binary_crossentropy,\n",
    "              metrics=[metrics.binary_accuracy])"
   ]
  },
  {
   "cell_type": "markdown",
   "metadata": {},
   "source": [
    "## 코드 3-7 훈련 검증\n",
    "원본 훈련 데이터에서 10,000의 샘플을 떼어 검증 세트를 만들어냄."
   ]
  },
  {
   "cell_type": "code",
   "execution_count": 30,
   "metadata": {},
   "outputs": [],
   "source": [
    "x_val = x_train[:10000]\n",
    "partial_x_train = x_train[10000:]\n",
    "y_val = y_train[:10000]\n",
    "partial_y_train = y_train[10000:]"
   ]
  },
  {
   "cell_type": "markdown",
   "metadata": {},
   "source": [
    "## 코드 3-8 모델 훈련하기\n",
    "512개의 샘플씩 미니 배치를 만들어 20번의 에포크동안 훈련."
   ]
  },
  {
   "cell_type": "code",
   "execution_count": 32,
   "metadata": {},
   "outputs": [
    {
     "name": "stdout",
     "output_type": "stream",
     "text": [
      "Train on 15000 samples, validate on 10000 samples\n",
      "Epoch 1/20\n",
      "15000/15000 [==============================] - 6s 382us/step - loss: 0.5056 - acc: 0.7956 - val_loss: 0.3786 - val_acc: 0.8632\n",
      "Epoch 2/20\n",
      "15000/15000 [==============================] - 4s 267us/step - loss: 0.2957 - acc: 0.9029 - val_loss: 0.3000 - val_acc: 0.8902\n",
      "Epoch 3/20\n",
      "15000/15000 [==============================] - 4s 263us/step - loss: 0.2181 - acc: 0.9299 - val_loss: 0.2791 - val_acc: 0.8917\n",
      "Epoch 4/20\n",
      "15000/15000 [==============================] - 4s 259us/step - loss: 0.1700 - acc: 0.9446 - val_loss: 0.2973 - val_acc: 0.8816\n",
      "Epoch 5/20\n",
      "15000/15000 [==============================] - 4s 269us/step - loss: 0.1391 - acc: 0.9577 - val_loss: 0.2899 - val_acc: 0.8849\n",
      "Epoch 6/20\n",
      "15000/15000 [==============================] - 4s 260us/step - loss: 0.1151 - acc: 0.9652 - val_loss: 0.3157 - val_acc: 0.8764\n",
      "Epoch 7/20\n",
      "15000/15000 [==============================] - 4s 258us/step - loss: 0.0919 - acc: 0.9737 - val_loss: 0.3274 - val_acc: 0.8773\n",
      "Epoch 8/20\n",
      "15000/15000 [==============================] - 4s 264us/step - loss: 0.0774 - acc: 0.9781 - val_loss: 0.3281 - val_acc: 0.8821\n",
      "Epoch 9/20\n",
      "15000/15000 [==============================] - 4s 273us/step - loss: 0.0614 - acc: 0.9851 - val_loss: 0.4070 - val_acc: 0.8705\n",
      "Epoch 10/20\n",
      "15000/15000 [==============================] - 4s 260us/step - loss: 0.0528 - acc: 0.9864 - val_loss: 0.3751 - val_acc: 0.8782\n",
      "Epoch 11/20\n",
      "15000/15000 [==============================] - 4s 257us/step - loss: 0.0426 - acc: 0.9901 - val_loss: 0.3992 - val_acc: 0.8774\n",
      "Epoch 12/20\n",
      "15000/15000 [==============================] - 4s 261us/step - loss: 0.0324 - acc: 0.9943 - val_loss: 0.4449 - val_acc: 0.8764\n",
      "Epoch 13/20\n",
      "15000/15000 [==============================] - 4s 276us/step - loss: 0.0253 - acc: 0.9957 - val_loss: 0.4830 - val_acc: 0.8735\n",
      "Epoch 14/20\n",
      "15000/15000 [==============================] - 4s 263us/step - loss: 0.0196 - acc: 0.9973 - val_loss: 0.4904 - val_acc: 0.8727\n",
      "Epoch 15/20\n",
      "15000/15000 [==============================] - 4s 258us/step - loss: 0.0180 - acc: 0.9969 - val_loss: 0.5254 - val_acc: 0.8728\n",
      "Epoch 16/20\n",
      "15000/15000 [==============================] - 4s 266us/step - loss: 0.0115 - acc: 0.9987 - val_loss: 0.6371 - val_acc: 0.8618\n",
      "Epoch 17/20\n",
      "15000/15000 [==============================] - 4s 266us/step - loss: 0.0080 - acc: 0.9997 - val_loss: 0.5796 - val_acc: 0.8688\n",
      "Epoch 18/20\n",
      "15000/15000 [==============================] - 4s 277us/step - loss: 0.0098 - acc: 0.9982 - val_loss: 0.6125 - val_acc: 0.8684\n",
      "Epoch 19/20\n",
      "15000/15000 [==============================] - 4s 281us/step - loss: 0.0040 - acc: 0.9999 - val_loss: 0.6534 - val_acc: 0.8646\n",
      "Epoch 20/20\n",
      "15000/15000 [==============================] - 4s 288us/step - loss: 0.0047 - acc: 0.9997 - val_loss: 0.6759 - val_acc: 0.8660\n"
     ]
    }
   ],
   "source": [
    "model.compile(optimizer='rmsprop',\n",
    "            loss='binary_crossentropy',\n",
    "             metrics=['acc'])\n",
    "\n",
    "history = model.fit(partial_x_train,\n",
    "                    partial_y_train,\n",
    "                    epochs=20,\n",
    "                    batch_size=512,\n",
    "                    validation_data=(x_val, y_val))"
   ]
  },
  {
   "cell_type": "markdown",
   "metadata": {},
   "source": [
    "## 코드 3-9 훈련과 검증 손실 그리기"
   ]
  },
  {
   "cell_type": "code",
   "execution_count": 33,
   "metadata": {},
   "outputs": [
    {
     "data": {
      "image/png": "[encoded data removed]",
      "text/plain": [
       "<Figure size 432x288 with 1 Axes>"
      ]
     },
     "metadata": {
      "needs_background": "light"
     },
     "output_type": "display_data"
    }
   ],
   "source": [
    "import matplotlib.pyplot as plt\n",
    "\n",
    "history_dict = history.history \n",
    "loss = history_dict['loss']\n",
    "val_loss = history_dict['val_loss']\n",
    "\n",
    "epochs = range(1,len(loss) + 1)\n",
    "\n",
    "plt.plot(epochs, loss, 'bo',label='Training loss')\n",
    "plt.plot(epochs, val_loss, 'b',label='Validation loss')\n",
    "plt.title('Trainning and validation loss')\n",
    "plt.xlabel('Epochs')\n",
    "plt.ylabel('Loss')\n",
    "plt.legend()\n",
    "\n",
    "plt.show()"
   ]
  },
  {
   "cell_type": "markdown",
   "metadata": {},
   "source": [
    "## 코드 3-10 훈련과 검증 정확도 그리기"
   ]
  },
  {
   "cell_type": "code",
   "execution_count": 34,
   "metadata": {},
   "outputs": [
    {
     "data": {
      "image/png": "[encoded data removed]",
      "text/plain": [
       "<Figure size 432x288 with 1 Axes>"
      ]
     },
     "metadata": {
      "needs_background": "light"
     },
     "output_type": "display_data"
    }
   ],
   "source": [
    "plt.clf()  \n",
    "acc = history_dict['acc']\n",
    "val_acc = history_dict['val_acc']\n",
    "\n",
    "plt.plot(epochs, acc, 'bo', label='Training acc')\n",
    "plt.plot(epochs, val_acc, 'b', label='Validation acc')\n",
    "plt.title('Training and validation accuracy')\n",
    "plt.xlabel('Epochs')\n",
    "plt.ylabel('Accuracy')\n",
    "plt.legend()\n",
    "\n",
    "fig2 = plt.gcf()\n",
    "\n",
    "plt.draw()\n",
    "fig2.savefig('fig2.png', dpi=100)"
   ]
  },
  {
   "cell_type": "markdown",
   "metadata": {},
   "source": [
    "## 코드 3-11 모델을 처음부터 다시 훈련하기"
   ]
  },
  {
   "cell_type": "code",
   "execution_count": 35,
   "metadata": {},
   "outputs": [
    {
     "name": "stdout",
     "output_type": "stream",
     "text": [
      "Epoch 1/4\n",
      "25000/25000 [==============================] - 6s 234us/step - loss: 0.4448 - acc: 0.8257\n",
      "Epoch 2/4\n",
      "25000/25000 [==============================] - 5s 190us/step - loss: 0.2588 - acc: 0.9120\n",
      "Epoch 3/4\n",
      "25000/25000 [==============================] - 5s 193us/step - loss: 0.2020 - acc: 0.9295\n",
      "Epoch 4/4\n",
      "25000/25000 [==============================] - 5s 201us/step - loss: 0.1708 - acc: 0.9385\n",
      "25000/25000 [==============================] - 7s 263us/step\n"
     ]
    }
   ],
   "source": [
    "model = models.Sequential()\n",
    "model.add(layers.Dense(16, activation='relu', input_shape=(10000,)))\n",
    "model.add(layers.Dense(16, activation='relu'))\n",
    "model.add(layers.Dense(1, activation='sigmoid'))\n",
    "\n",
    "model.compile(optimizer='rmsprop',\n",
    "              loss='binary_crossentropy',\n",
    "              metrics=['accuracy'])\n",
    "\n",
    "model.fit(x_train, y_train,epochs=4,batch_size=512)\n",
    "results = model.evaluate(x_test, y_test)"
   ]
  }
 ],
 "metadata": {
  "kernelspec": {
   "display_name": "Python 3",
   "language": "python",
   "name": "python3"
  },
  "language_info": {
   "codemirror_mode": {
    "name": "ipython",
    "version": 3
   },
   "file_extension": ".py",
   "mimetype": "text/x-python",
   "name": "python",
   "nbconvert_exporter": "python",
   "pygments_lexer": "ipython3",
   "version": "3.7.3"
  }
 },
 "nbformat": 4,
 "nbformat_minor": 2
}
