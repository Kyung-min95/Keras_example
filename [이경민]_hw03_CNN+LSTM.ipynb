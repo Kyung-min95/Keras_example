{
 "cells": [
  {
   "cell_type": "markdown",
   "metadata": {},
   "source": [
    "# 순환 컨볼루션 신경망(CNN + LSTM)"
   ]
  },
  {
   "cell_type": "markdown",
   "metadata": {},
   "source": [
    "## 사용할 패키지 불러오기\n",
    "### keras에서 필요한 데이터, 모델, 레이어를 import 함.\n",
    "- Sequence : 레이어들을 선형으로 쌓는 모델\n",
    "- Dense : 입출력을 연결해줌\n",
    "- Enbedding : Data를 밀집 벡터로 만드는 층\n",
    "- Flatten : 결과를 1차원으로 보여줌\n",
    "- Dropout : 규제 방법중 하나로 과대적합을 감소시키는데 사용 \n",
    "- Conv1D : 지역적 특징을 추출 하는 층\n",
    "- GlobalMaxPooling1D : 가장큰 벡터를 반환"
   ]
  },
  {
   "cell_type": "code",
   "execution_count": 1,
   "metadata": {},
   "outputs": [
    {
     "name": "stderr",
     "output_type": "stream",
     "text": [
      "Using TensorFlow backend.\n"
     ]
    }
   ],
   "source": [
    "from keras.datasets import imdb\n",
    "from keras.preprocessing import sequence\n",
    "from keras.models import Sequential\n",
    "from keras.layers import Dense, Embedding, LSTM\n",
    "from keras.layers import Flatten, Dropout\n",
    "from keras.layers import Conv1D, GlobalMaxPooling1D\n",
    "\n",
    "max_features = 20000\n",
    "text_max_words = 200"
   ]
  },
  {
   "cell_type": "markdown",
   "metadata": {},
   "source": [
    "## 데이터셋 설정하기\n",
    "- 25000개의 IMDB 훈련 SET을 다시 20000개의 훈련 SET과 5000개의 검증 SET으로 데이터 SET으로 생성한다"
   ]
  },
  {
   "cell_type": "code",
   "execution_count": 2,
   "metadata": {},
   "outputs": [],
   "source": [
    "(x_train, y_train), (x_test, y_test) = imdb.load_data(num_words=max_features)\n",
    "\n",
    "x_val = x_train[20000:]\n",
    "y_val = y_train[20000:]\n",
    "x_train = x_train[:20000]\n",
    "y_train = y_train[:20000]\n",
    "\n",
    "x_train = sequence.pad_sequences(x_train, maxlen=text_max_words)\n",
    "x_val = sequence.pad_sequences(x_val, maxlen=text_max_words)\n",
    "x_test = sequence.pad_sequences(x_test, maxlen=text_max_words)"
   ]
  },
  {
   "cell_type": "markdown",
   "metadata": {},
   "source": [
    "## 모델 구성하기\n",
    "- 선형 모델로 구성\n",
    "- max_fetures 즉 20000개의 데이터를 임베딩 한후의 벡터의 크기(특징의 크기)는 128이다\n",
    "- 20%의 Dropout 비율\n",
    "- 필터의 크기가 3이고 , padding은 사용하지 않음, 컨볼루션의 보폭을 1로 지정\n",
    "- 가장큰 벡터를 반환, 128개의 뉴런을 출력 한후 20%의 비율로 Dropout\n",
    "- 출력 뉴런은 1개이고 활성화함수 'sigmod'를 사용"
   ]
  },
  {
   "cell_type": "code",
   "execution_count": 3,
   "metadata": {},
   "outputs": [
    {
     "name": "stderr",
     "output_type": "stream",
     "text": [
      "WARNING: Logging before flag parsing goes to stderr.\n",
      "W0805 10:37:04.022150 11804 deprecation_wrapper.py:119] From C:\\Users\\lymmo\\AppData\\Roaming\\Python\\Python37\\site-packages\\keras\\backend\\tensorflow_backend.py:74: The name tf.get_default_graph is deprecated. Please use tf.compat.v1.get_default_graph instead.\n",
      "\n",
      "W0805 10:37:04.153257 11804 deprecation_wrapper.py:119] From C:\\Users\\lymmo\\AppData\\Roaming\\Python\\Python37\\site-packages\\keras\\backend\\tensorflow_backend.py:517: The name tf.placeholder is deprecated. Please use tf.compat.v1.placeholder instead.\n",
      "\n",
      "W0805 10:37:04.163336 11804 deprecation_wrapper.py:119] From C:\\Users\\lymmo\\AppData\\Roaming\\Python\\Python37\\site-packages\\keras\\backend\\tensorflow_backend.py:4138: The name tf.random_uniform is deprecated. Please use tf.random.uniform instead.\n",
      "\n",
      "W0805 10:37:04.183524 11804 deprecation_wrapper.py:119] From C:\\Users\\lymmo\\AppData\\Roaming\\Python\\Python37\\site-packages\\keras\\backend\\tensorflow_backend.py:133: The name tf.placeholder_with_default is deprecated. Please use tf.compat.v1.placeholder_with_default instead.\n",
      "\n",
      "W0805 10:37:04.274427 11804 deprecation.py:506] From C:\\Users\\lymmo\\AppData\\Roaming\\Python\\Python37\\site-packages\\keras\\backend\\tensorflow_backend.py:3445: calling dropout (from tensorflow.python.ops.nn_ops) with keep_prob is deprecated and will be removed in a future version.\n",
      "Instructions for updating:\n",
      "Please use `rate` instead of `keep_prob`. Rate should be set to `rate = 1 - keep_prob`.\n"
     ]
    }
   ],
   "source": [
    "model = Sequential()\n",
    "model.add(Embedding(max_features, 128, input_length=text_max_words))\n",
    "model.add(Dropout(0.2))\n",
    "model.add(Conv1D(256,\n",
    "                 3,\n",
    "                 padding='valid',\n",
    "                 activation='relu',\n",
    "                 strides=1))\n",
    "model.add(GlobalMaxPooling1D())\n",
    "model.add(Dense(128, activation='relu'))\n",
    "model.add(Dropout(0.2))\n",
    "model.add(Dense(1, activation='sigmoid'))"
   ]
  },
  {
   "cell_type": "markdown",
   "metadata": {},
   "source": [
    "## 모델 학습과정 설정하기"
   ]
  },
  {
   "cell_type": "code",
   "execution_count": 4,
   "metadata": {},
   "outputs": [
    {
     "name": "stderr",
     "output_type": "stream",
     "text": [
      "W0805 10:37:04.879492 11804 deprecation_wrapper.py:119] From C:\\Users\\lymmo\\AppData\\Roaming\\Python\\Python37\\site-packages\\keras\\optimizers.py:790: The name tf.train.Optimizer is deprecated. Please use tf.compat.v1.train.Optimizer instead.\n",
      "\n",
      "W0805 10:37:04.987515 11804 deprecation_wrapper.py:119] From C:\\Users\\lymmo\\AppData\\Roaming\\Python\\Python37\\site-packages\\keras\\backend\\tensorflow_backend.py:3376: The name tf.log is deprecated. Please use tf.math.log instead.\n",
      "\n",
      "W0805 10:37:04.996491 11804 deprecation.py:323] From C:\\Users\\lymmo\\AppData\\Roaming\\Python\\Python37\\site-packages\\tensorflow\\python\\ops\\nn_impl.py:180: add_dispatch_support.<locals>.wrapper (from tensorflow.python.ops.array_ops) is deprecated and will be removed in a future version.\n",
      "Instructions for updating:\n",
      "Use tf.where in 2.0, which has the same broadcast rule as np.where\n"
     ]
    },
    {
     "name": "stdout",
     "output_type": "stream",
     "text": [
      "_________________________________________________________________\n",
      "Layer (type)                 Output Shape              Param #   \n",
      "=================================================================\n",
      "embedding_1 (Embedding)      (None, 200, 128)          2560000   \n",
      "_________________________________________________________________\n",
      "dropout_1 (Dropout)          (None, 200, 128)          0         \n",
      "_________________________________________________________________\n",
      "conv1d_1 (Conv1D)            (None, 198, 256)          98560     \n",
      "_________________________________________________________________\n",
      "global_max_pooling1d_1 (Glob (None, 256)               0         \n",
      "_________________________________________________________________\n",
      "dense_1 (Dense)              (None, 128)               32896     \n",
      "_________________________________________________________________\n",
      "dropout_2 (Dropout)          (None, 128)               0         \n",
      "_________________________________________________________________\n",
      "dense_2 (Dense)              (None, 1)                 129       \n",
      "=================================================================\n",
      "Total params: 2,691,585\n",
      "Trainable params: 2,691,585\n",
      "Non-trainable params: 0\n",
      "_________________________________________________________________\n"
     ]
    }
   ],
   "source": [
    "model.compile(loss='binary_crossentropy', optimizer='adam', metrics=['accuracy'])\n",
    "model.summary()"
   ]
  },
  {
   "cell_type": "markdown",
   "metadata": {},
   "source": [
    "## 모델 학습시키기"
   ]
  },
  {
   "cell_type": "code",
   "execution_count": 5,
   "metadata": {},
   "outputs": [
    {
     "name": "stdout",
     "output_type": "stream",
     "text": [
      "Train on 20000 samples, validate on 5000 samples\n",
      "Epoch 1/25\n",
      "20000/20000 [==============================] - 146s 7ms/step - loss: 0.4664 - acc: 0.7591 - val_loss: 0.3029 - val_acc: 0.8712\n",
      "Epoch 2/25\n",
      "20000/20000 [==============================] - 143s 7ms/step - loss: 0.2171 - acc: 0.9136 - val_loss: 0.2630 - val_acc: 0.8920\n",
      "Epoch 3/25\n",
      "20000/20000 [==============================] - 145s 7ms/step - loss: 0.0872 - acc: 0.9728 - val_loss: 0.2872 - val_acc: 0.8936\n",
      "Epoch 4/25\n",
      "20000/20000 [==============================] - 137s 7ms/step - loss: 0.0242 - acc: 0.9947 - val_loss: 0.3535 - val_acc: 0.8914\n",
      "Epoch 5/25\n",
      "20000/20000 [==============================] - 136s 7ms/step - loss: 0.0066 - acc: 0.9995 - val_loss: 0.4064 - val_acc: 0.8928\n",
      "Epoch 6/25\n",
      "20000/20000 [==============================] - 139s 7ms/step - loss: 0.0025 - acc: 0.9998 - val_loss: 0.4282 - val_acc: 0.8936\n",
      "Epoch 7/25\n",
      "20000/20000 [==============================] - 143s 7ms/step - loss: 0.0012 - acc: 1.0000 - val_loss: 0.4659 - val_acc: 0.8900\n",
      "Epoch 8/25\n",
      "20000/20000 [==============================] - 142s 7ms/step - loss: 5.6089e-04 - acc: 1.0000 - val_loss: 0.4857 - val_acc: 0.8932\n",
      "Epoch 9/25\n",
      "20000/20000 [==============================] - 135s 7ms/step - loss: 4.5112e-04 - acc: 1.0000 - val_loss: 0.5185 - val_acc: 0.8878\n",
      "Epoch 10/25\n",
      "20000/20000 [==============================] - 136s 7ms/step - loss: 5.0042e-04 - acc: 1.0000 - val_loss: 0.5272 - val_acc: 0.8908\n",
      "Epoch 11/25\n",
      "20000/20000 [==============================] - 126s 6ms/step - loss: 0.0081 - acc: 0.9972 - val_loss: 0.6001 - val_acc: 0.8684\n",
      "Epoch 12/25\n",
      "20000/20000 [==============================] - 94s 5ms/step - loss: 0.0180 - acc: 0.9931 - val_loss: 0.6307 - val_acc: 0.8804\n",
      "Epoch 13/25\n",
      "20000/20000 [==============================] - 88s 4ms/step - loss: 0.0132 - acc: 0.9958 - val_loss: 0.6000 - val_acc: 0.8812\n",
      "Epoch 14/25\n",
      "20000/20000 [==============================] - 91s 5ms/step - loss: 0.0066 - acc: 0.9979 - val_loss: 0.6295 - val_acc: 0.8880\n",
      "Epoch 15/25\n",
      "20000/20000 [==============================] - 91s 5ms/step - loss: 0.0037 - acc: 0.9986 - val_loss: 0.6736 - val_acc: 0.8844\n",
      "Epoch 16/25\n",
      "20000/20000 [==============================] - 87s 4ms/step - loss: 0.0024 - acc: 0.9995 - val_loss: 0.7122 - val_acc: 0.8846\n",
      "Epoch 17/25\n",
      "20000/20000 [==============================] - 86s 4ms/step - loss: 0.0024 - acc: 0.9993 - val_loss: 0.7817 - val_acc: 0.8842\n",
      "Epoch 18/25\n",
      "20000/20000 [==============================] - 89s 4ms/step - loss: 0.0067 - acc: 0.9980 - val_loss: 0.7150 - val_acc: 0.8818\n",
      "Epoch 19/25\n",
      "20000/20000 [==============================] - 87s 4ms/step - loss: 0.0068 - acc: 0.9977 - val_loss: 0.7143 - val_acc: 0.8720\n",
      "Epoch 20/25\n",
      "20000/20000 [==============================] - 92s 5ms/step - loss: 0.0043 - acc: 0.9986 - val_loss: 0.7400 - val_acc: 0.8848\n",
      "Epoch 21/25\n",
      "20000/20000 [==============================] - 90s 5ms/step - loss: 0.0016 - acc: 0.9995 - val_loss: 0.7811 - val_acc: 0.8802\n",
      "Epoch 22/25\n",
      "20000/20000 [==============================] - 83s 4ms/step - loss: 0.0039 - acc: 0.9983 - val_loss: 0.7334 - val_acc: 0.8818\n",
      "Epoch 23/25\n",
      "20000/20000 [==============================] - 81s 4ms/step - loss: 0.0037 - acc: 0.9987 - val_loss: 0.7529 - val_acc: 0.8816\n",
      "Epoch 24/25\n",
      "20000/20000 [==============================] - 85s 4ms/step - loss: 0.0022 - acc: 0.9991 - val_loss: 0.8312 - val_acc: 0.8796\n",
      "Epoch 25/25\n",
      "20000/20000 [==============================] - 84s 4ms/step - loss: 0.0017 - acc: 0.9995 - val_loss: 0.8212 - val_acc: 0.8792\n"
     ]
    }
   ],
   "source": [
    "hist = model.fit(x_train, y_train, epochs=25, batch_size=64, validation_data=(x_val, y_val))"
   ]
  },
  {
   "cell_type": "markdown",
   "metadata": {},
   "source": [
    "## 학습과정 살펴보기\n",
    "- 학습모델의 정확도 결과는 평균적으로 점차 증가하는 걸 확인 할 수 있다.\n",
    "- 훈련데이터의 정확도는 4에포크 부터 1에 가까운 값을 확인할 수 있다.\n",
    "- 학습데이터의 오차는 계속해서 줄어들고 5번째 에포크부터 0에 가까운 값을 확인할 수 있다."
   ]
  },
  {
   "cell_type": "code",
   "execution_count": 6,
   "metadata": {},
   "outputs": [
    {
     "data": {
      "image/png": "[encoded data removed]",
      "text/plain": [
       "<Figure size 432x288 with 2 Axes>"
      ]
     },
     "metadata": {
      "needs_background": "light"
     },
     "output_type": "display_data"
    }
   ],
   "source": [
    "%matplotlib inline\n",
    "import matplotlib.pyplot as plt\n",
    "\n",
    "fig, loss_ax = plt.subplots()\n",
    "\n",
    "acc_ax = loss_ax.twinx()\n",
    "\n",
    "loss_ax.plot(hist.history['loss'], 'y', label='train loss')\n",
    "loss_ax.plot(hist.history['val_loss'], 'r', label='val loss')\n",
    "loss_ax.set_ylim([-0.2, 1.2])\n",
    "\n",
    "acc_ax.plot(hist.history['acc'], 'b', label='train acc')\n",
    "acc_ax.plot(hist.history['val_acc'], 'g', label='val acc')\n",
    "acc_ax.set_ylim([-0.2, 1.2])\n",
    "\n",
    "loss_ax.set_xlabel('epoch')\n",
    "loss_ax.set_ylabel('loss')\n",
    "acc_ax.set_ylabel('accuray')\n",
    "\n",
    "loss_ax.legend(loc='upper left')\n",
    "acc_ax.legend(loc='lower left')\n",
    "\n",
    "plt.show()"
   ]
  },
  {
   "cell_type": "markdown",
   "metadata": {},
   "source": [
    "## 모델 평가하기\n",
    "-약 88%의 정확도를 확인할 수 있다."
   ]
  },
  {
   "cell_type": "code",
   "execution_count": 7,
   "metadata": {},
   "outputs": [
    {
     "name": "stdout",
     "output_type": "stream",
     "text": [
      "25000/25000 [==============================] - 17s 690us/step\n",
      "## evaluation loss and_metrics ##\n",
      "[0.8841213576126099, 0.8655600000381469]\n"
     ]
    }
   ],
   "source": [
    "loss_and_metrics = model.evaluate(x_test, y_test, batch_size=64)\n",
    "print('## evaluation loss and_metrics ##')\n",
    "print(loss_and_metrics)"
   ]
  }
 ],
 "metadata": {
  "kernelspec": {
   "display_name": "Python 3",
   "language": "python",
   "name": "python3"
  },
  "language_info": {
   "codemirror_mode": {
    "name": "ipython",
    "version": 3
   },
   "file_extension": ".py",
   "mimetype": "text/x-python",
   "name": "python",
   "nbconvert_exporter": "python",
   "pygments_lexer": "ipython3",
   "version": "3.7.3"
  }
 },
 "nbformat": 4,
 "nbformat_minor": 2
}
